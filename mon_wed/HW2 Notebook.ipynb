{
 "cells": [
  {
   "cell_type": "markdown",
   "id": "1490563c-ee58-432f-bfc7-12cb81c63479",
   "metadata": {},
   "source": [
    "# BFOR 206 Homework 2 Notebook Example\n",
    "This notebook is to show some basics for how to use \n",
    "Jupyter Notebooks."
   ]
  },
  {
   "cell_type": "code",
   "execution_count": 1,
   "id": "5caf3320-56f2-418d-ae9b-640abb79336c",
   "metadata": {},
   "outputs": [],
   "source": [
    "import pandas as pd"
   ]
  },
  {
   "cell_type": "markdown",
   "id": "256de7e2-f276-4f05-9f18-ccf91344f7d1",
   "metadata": {},
   "source": [
    "## Read Data\n",
    "Notice how the notebook runs in the directory of the notebook file\n"
   ]
  },
  {
   "cell_type": "code",
   "execution_count": 3,
   "id": "d539be79-63f3-4652-a9dc-17652534a727",
   "metadata": {},
   "outputs": [],
   "source": [
    "# look one level higher (..) to get the data directory\n",
    "aiml_data = pd.read_csv('../data/reddit_database.csv')"
   ]
  },
  {
   "cell_type": "code",
   "execution_count": 5,
   "id": "98942ae7-f643-450e-becf-8275308e6ac6",
   "metadata": {},
   "outputs": [
    {
     "name": "stdout",
     "output_type": "stream",
     "text": [
      "<class 'pandas.core.frame.DataFrame'>\n",
      "RangeIndex: 527646 entries, 0 to 527645\n",
      "Data columns (total 13 columns):\n",
      " #   Column                 Non-Null Count   Dtype  \n",
      "---  ------                 --------------   -----  \n",
      " 0   created_date           527646 non-null  object \n",
      " 1   created_timestamp      527646 non-null  float64\n",
      " 2   subreddit              527646 non-null  object \n",
      " 3   title                  527646 non-null  object \n",
      " 4   id                     527646 non-null  object \n",
      " 5   author                 527646 non-null  object \n",
      " 6   author_created_utc     103319 non-null  float64\n",
      " 7   full_link              527646 non-null  object \n",
      " 8   score                  527646 non-null  float64\n",
      " 9   num_comments           527646 non-null  float64\n",
      " 10  num_crossposts         400013 non-null  float64\n",
      " 11  subreddit_subscribers  364379 non-null  float64\n",
      " 12  post                   262567 non-null  object \n",
      "dtypes: float64(6), object(7)\n",
      "memory usage: 52.3+ MB\n"
     ]
    },
    {
     "data": {
      "text/plain": [
       "None"
      ]
     },
     "metadata": {},
     "output_type": "display_data"
    }
   ],
   "source": [
    "# display() will format this nicely\n",
    "display(aiml_data.info())"
   ]
  },
  {
   "cell_type": "code",
   "execution_count": null,
   "id": "f0b1dc9b-de07-458d-b350-eeb2ffaa8b35",
   "metadata": {},
   "outputs": [],
   "source": []
  }
 ],
 "metadata": {
  "kernelspec": {
   "display_name": "Python 3 (ipykernel)",
   "language": "python",
   "name": "python3"
  },
  "language_info": {
   "codemirror_mode": {
    "name": "ipython",
    "version": 3
   },
   "file_extension": ".py",
   "mimetype": "text/x-python",
   "name": "python",
   "nbconvert_exporter": "python",
   "pygments_lexer": "ipython3",
   "version": "3.9.7"
  }
 },
 "nbformat": 4,
 "nbformat_minor": 5
}
