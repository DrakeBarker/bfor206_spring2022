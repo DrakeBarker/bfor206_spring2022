{
 "cells": [
  {
   "cell_type": "markdown",
   "id": "60a8bb6b",
   "metadata": {},
   "source": [
    "# Homework 3 Analysis\n",
    "This notebook will comtain the analysis code. We can\n",
    "use it after the data has been cleaned and stored in a \n",
    "dataframe."
   ]
  },
  {
   "cell_type": "code",
   "execution_count": null,
   "id": "7864e4ee",
   "metadata": {},
   "outputs": [],
   "source": []
  }
 ],
 "metadata": {
  "kernelspec": {
   "display_name": "Python 3 (ipykernel)",
   "language": "python",
   "name": "python3"
  },
  "language_info": {
   "codemirror_mode": {
    "name": "ipython",
    "version": 3
   },
   "file_extension": ".py",
   "mimetype": "text/x-python",
   "name": "python",
   "nbconvert_exporter": "python",
   "pygments_lexer": "ipython3",
   "version": "3.9.7"
  }
 },
 "nbformat": 4,
 "nbformat_minor": 5
}
