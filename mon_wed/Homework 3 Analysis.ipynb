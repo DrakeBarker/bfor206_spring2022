{
 "cells": [
  {
   "cell_type": "markdown",
   "id": "60a8bb6b",
   "metadata": {},
   "source": [
    "# Homework 3 Analysis\n",
    "This notebook will comtain the analysis code. We can\n",
    "use it after the data has been cleaned and stored in a \n",
    "dataframe."
   ]
  },
  {
   "cell_type": "code",
   "execution_count": 1,
   "id": "7864e4ee",
   "metadata": {},
   "outputs": [],
   "source": [
    "import pandas as pd"
   ]
  },
  {
   "cell_type": "markdown",
   "id": "31267da1",
   "metadata": {},
   "source": [
    "## Read in data"
   ]
  },
  {
   "cell_type": "code",
   "execution_count": 2,
   "id": "d9faebcc",
   "metadata": {},
   "outputs": [],
   "source": [
    "hackers = pd.read_csv('hackers_clean.csv')"
   ]
  },
  {
   "cell_type": "markdown",
   "id": "9abbe2ad",
   "metadata": {},
   "source": [
    "# Question 1\n",
    "Currrently there are no analysis for this"
   ]
  },
  {
   "cell_type": "code",
   "execution_count": null,
   "id": "41ba7259",
   "metadata": {},
   "outputs": [],
   "source": []
  },
  {
   "cell_type": "markdown",
   "id": "3fa7fbd1",
   "metadata": {},
   "source": [
    "# Question 2\n",
    "Question 2 has questions about the messages and their content.\n"
   ]
  },
  {
   "cell_type": "markdown",
   "id": "02c2c2ef",
   "metadata": {},
   "source": [
    "## Question 2.1: How many messages were there?\n",
    "Count the total number of chat messages. There are lots of ways to count things in a dataframe. Here are two examples."
   ]
  },
  {
   "cell_type": "code",
   "execution_count": 5,
   "id": "65c177fe",
   "metadata": {},
   "outputs": [
    {
     "data": {
      "text/html": [
       "<div>\n",
       "<style scoped>\n",
       "    .dataframe tbody tr th:only-of-type {\n",
       "        vertical-align: middle;\n",
       "    }\n",
       "\n",
       "    .dataframe tbody tr th {\n",
       "        vertical-align: top;\n",
       "    }\n",
       "\n",
       "    .dataframe thead th {\n",
       "        text-align: right;\n",
       "    }\n",
       "</style>\n",
       "<table border=\"1\" class=\"dataframe\">\n",
       "  <thead>\n",
       "    <tr style=\"text-align: right;\">\n",
       "      <th></th>\n",
       "      <th>Unnamed: 0</th>\n",
       "      <th>original_data</th>\n",
       "      <th>is_date_row</th>\n",
       "    </tr>\n",
       "    <tr>\n",
       "      <th>is_message_row</th>\n",
       "      <th></th>\n",
       "      <th></th>\n",
       "      <th></th>\n",
       "    </tr>\n",
       "  </thead>\n",
       "  <tbody>\n",
       "    <tr>\n",
       "      <th>False</th>\n",
       "      <td>249300</td>\n",
       "      <td>249300</td>\n",
       "      <td>249300</td>\n",
       "    </tr>\n",
       "    <tr>\n",
       "      <th>True</th>\n",
       "      <td>229604</td>\n",
       "      <td>229604</td>\n",
       "      <td>229604</td>\n",
       "    </tr>\n",
       "  </tbody>\n",
       "</table>\n",
       "</div>"
      ],
      "text/plain": [
       "                Unnamed: 0  original_data  is_date_row\n",
       "is_message_row                                        \n",
       "False               249300         249300       249300\n",
       "True                229604         229604       229604"
      ]
     },
     "execution_count": 5,
     "metadata": {},
     "output_type": "execute_result"
    }
   ],
   "source": [
    "hackers.groupby(['is_message_row']).count()"
   ]
  },
  {
   "cell_type": "code",
   "execution_count": 9,
   "id": "f6590fa6",
   "metadata": {},
   "outputs": [
    {
     "data": {
      "text/plain": [
       "229604"
      ]
     },
     "execution_count": 9,
     "metadata": {},
     "output_type": "execute_result"
    }
   ],
   "source": [
    "len(hackers.loc[hackers['is_message_row'] == True ])"
   ]
  },
  {
   "cell_type": "code",
   "execution_count": null,
   "id": "ab58f46a",
   "metadata": {},
   "outputs": [],
   "source": []
  }
 ],
 "metadata": {
  "kernelspec": {
   "display_name": "Python 3 (ipykernel)",
   "language": "python",
   "name": "python3"
  },
  "language_info": {
   "codemirror_mode": {
    "name": "ipython",
    "version": 3
   },
   "file_extension": ".py",
   "mimetype": "text/x-python",
   "name": "python",
   "nbconvert_exporter": "python",
   "pygments_lexer": "ipython3",
   "version": "3.9.7"
  }
 },
 "nbformat": 4,
 "nbformat_minor": 5
}
