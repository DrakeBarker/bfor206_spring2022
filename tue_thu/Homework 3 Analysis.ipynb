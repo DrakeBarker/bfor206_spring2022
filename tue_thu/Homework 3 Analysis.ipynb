{
 "cells": [
  {
   "cell_type": "markdown",
   "id": "e6c0d0a9",
   "metadata": {},
   "source": [
    "# Homework 3 Analysis\n",
    "This notebook will be used to run the end analysis of the IRC hacker community chat."
   ]
  },
  {
   "cell_type": "code",
   "execution_count": null,
   "id": "7de27e2b",
   "metadata": {},
   "outputs": [],
   "source": []
  }
 ],
 "metadata": {
  "kernelspec": {
   "display_name": "Python 3 (ipykernel)",
   "language": "python",
   "name": "python3"
  },
  "language_info": {
   "codemirror_mode": {
    "name": "ipython",
    "version": 3
   },
   "file_extension": ".py",
   "mimetype": "text/x-python",
   "name": "python",
   "nbconvert_exporter": "python",
   "pygments_lexer": "ipython3",
   "version": "3.9.7"
  }
 },
 "nbformat": 4,
 "nbformat_minor": 5
}
