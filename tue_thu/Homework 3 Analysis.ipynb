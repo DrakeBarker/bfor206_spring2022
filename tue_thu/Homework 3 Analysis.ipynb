{
 "cells": [
  {
   "cell_type": "markdown",
   "id": "e6c0d0a9",
   "metadata": {},
   "source": [
    "# Homework 3 Analysis\n",
    "This notebook will be used to run the end analysis of the IRC hacker community chat."
   ]
  },
  {
   "cell_type": "markdown",
   "id": "472f22f1",
   "metadata": {},
   "source": [
    "## Imports"
   ]
  },
  {
   "cell_type": "code",
   "execution_count": 1,
   "id": "78065281",
   "metadata": {},
   "outputs": [],
   "source": [
    "import pandas as pd"
   ]
  },
  {
   "cell_type": "markdown",
   "id": "e5bd0c69",
   "metadata": {},
   "source": [
    "## Read in the cleaned dataset\n",
    "The clean dataset is the output of the `irc_cleaner.py` script."
   ]
  },
  {
   "cell_type": "code",
   "execution_count": 2,
   "id": "8d3c50a3",
   "metadata": {},
   "outputs": [],
   "source": [
    "hackers = pd.read_csv('hackers_clean.csv')"
   ]
  },
  {
   "cell_type": "markdown",
   "id": "45f392bd",
   "metadata": {},
   "source": [
    "# Question 2\n",
    "\n",
    "## Question 2.1: Total Number of Chat Messages (1pt)\n",
    "Answer using `.groupby()`"
   ]
  },
  {
   "cell_type": "code",
   "execution_count": 3,
   "id": "3587b6e6",
   "metadata": {},
   "outputs": [
    {
     "data": {
      "text/html": [
       "<div>\n",
       "<style scoped>\n",
       "    .dataframe tbody tr th:only-of-type {\n",
       "        vertical-align: middle;\n",
       "    }\n",
       "\n",
       "    .dataframe tbody tr th {\n",
       "        vertical-align: top;\n",
       "    }\n",
       "\n",
       "    .dataframe thead th {\n",
       "        text-align: right;\n",
       "    }\n",
       "</style>\n",
       "<table border=\"1\" class=\"dataframe\">\n",
       "  <thead>\n",
       "    <tr style=\"text-align: right;\">\n",
       "      <th></th>\n",
       "      <th>Unnamed: 0</th>\n",
       "      <th>original_data</th>\n",
       "      <th>is_date_row</th>\n",
       "    </tr>\n",
       "    <tr>\n",
       "      <th>is_message</th>\n",
       "      <th></th>\n",
       "      <th></th>\n",
       "      <th></th>\n",
       "    </tr>\n",
       "  </thead>\n",
       "  <tbody>\n",
       "    <tr>\n",
       "      <th>False</th>\n",
       "      <td>249300</td>\n",
       "      <td>249300</td>\n",
       "      <td>249300</td>\n",
       "    </tr>\n",
       "    <tr>\n",
       "      <th>True</th>\n",
       "      <td>229604</td>\n",
       "      <td>229604</td>\n",
       "      <td>229604</td>\n",
       "    </tr>\n",
       "  </tbody>\n",
       "</table>\n",
       "</div>"
      ],
      "text/plain": [
       "            Unnamed: 0  original_data  is_date_row\n",
       "is_message                                        \n",
       "False           249300         249300       249300\n",
       "True            229604         229604       229604"
      ]
     },
     "execution_count": 3,
     "metadata": {},
     "output_type": "execute_result"
    }
   ],
   "source": [
    "hackers.groupby('is_message').count()"
   ]
  },
  {
   "cell_type": "markdown",
   "id": "9bfa9ff7",
   "metadata": {},
   "source": [
    "We can also answer by selecting the rows where `is_message` is True, and then getting the length (`len()`) of the result."
   ]
  },
  {
   "cell_type": "code",
   "execution_count": 5,
   "id": "8ade3a23",
   "metadata": {},
   "outputs": [
    {
     "data": {
      "text/plain": [
       "229604"
      ]
     },
     "execution_count": 5,
     "metadata": {},
     "output_type": "execute_result"
    }
   ],
   "source": [
    "len(hackers.loc[hackers['is_message'] == True])"
   ]
  },
  {
   "cell_type": "code",
   "execution_count": null,
   "id": "efbebbd0",
   "metadata": {},
   "outputs": [],
   "source": []
  }
 ],
 "metadata": {
  "kernelspec": {
   "display_name": "Python 3 (ipykernel)",
   "language": "python",
   "name": "python3"
  },
  "language_info": {
   "codemirror_mode": {
    "name": "ipython",
    "version": 3
   },
   "file_extension": ".py",
   "mimetype": "text/x-python",
   "name": "python",
   "nbconvert_exporter": "python",
   "pygments_lexer": "ipython3",
   "version": "3.9.7"
  }
 },
 "nbformat": 4,
 "nbformat_minor": 5
}
