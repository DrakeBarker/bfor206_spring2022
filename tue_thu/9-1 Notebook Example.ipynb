{
 "cells": [
  {
   "cell_type": "markdown",
   "id": "a83cb0a7-dff9-4afd-9ffb-e60d39b97766",
   "metadata": {},
   "source": [
    "# Jupyter Notebook Example\n",
    "This notebook is to show how to start using Jupyter Notebook\n",
    "for Homework 2."
   ]
  },
  {
   "cell_type": "code",
   "execution_count": 1,
   "id": "61a83021-2037-4bb0-9747-9e4b0f7e5897",
   "metadata": {},
   "outputs": [],
   "source": [
    "import pandas as pd"
   ]
  },
  {
   "cell_type": "markdown",
   "id": "16f5e631-c386-410c-8978-5a30ab4c7e5f",
   "metadata": {},
   "source": [
    "# Read in reddit data"
   ]
  },
  {
   "cell_type": "code",
   "execution_count": null,
   "id": "481ebbf3-fe03-4c08-90a4-1c4e1d95a4af",
   "metadata": {},
   "outputs": [],
   "source": [
    "aiml_data = pd.read_csv('data/reddit_database.csv')"
   ]
  }
 ],
 "metadata": {
  "kernelspec": {
   "display_name": "Python 3 (ipykernel)",
   "language": "python",
   "name": "python3"
  },
  "language_info": {
   "codemirror_mode": {
    "name": "ipython",
    "version": 3
   },
   "file_extension": ".py",
   "mimetype": "text/x-python",
   "name": "python",
   "nbconvert_exporter": "python",
   "pygments_lexer": "ipython3",
   "version": "3.9.7"
  }
 },
 "nbformat": 4,
 "nbformat_minor": 5
}
